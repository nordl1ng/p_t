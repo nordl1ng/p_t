{
  "metadata": {
    "language_info": {
      "codemirror_mode": {
        "name": "python",
        "version": 3
      },
      "file_extension": ".py",
      "mimetype": "text/x-python",
      "name": "python",
      "nbconvert_exporter": "python",
      "pygments_lexer": "ipython3",
      "version": "3.8"
    },
    "kernelspec": {
      "name": "python",
      "display_name": "Python (Pyodide)",
      "language": "python"
    }
  },
  "nbformat_minor": 4,
  "nbformat": 4,
  "cells": [
    {
      "cell_type": "raw",
      "source": "Есть ли статистически значимые различия в росте дочерей?\nРост матерей 172, 177, 158, 170, 178,175, 164, 160, 169, 165\nРост взрослых дочерей: 173, 175, 162, 174, 175, 168, 155, 170, 160",
      "metadata": {}
    },
    {
      "cell_type": "code",
      "source": "import scipy.stats as stats\nimport numpy as np\nfrom math import sqrt",
      "metadata": {
        "trusted": true
      },
      "execution_count": 8,
      "outputs": []
    },
    {
      "cell_type": "code",
      "source": "x=np.array([172, 177, 158, 170, 178,175, 164, 160, 169])\ny=np.array([173, 175, 162, 174, 175, 168, 155, 170, 160])\nstats.ttest_ind(x,y)",
      "metadata": {
        "trusted": true
      },
      "execution_count": 9,
      "outputs": [
        {
          "execution_count": 9,
          "output_type": "execute_result",
          "data": {
            "text/plain": "Ttest_indResult(statistic=0.35581195161541973, pvalue=0.7266292679160495)"
          },
          "metadata": {}
        }
      ]
    },
    {
      "cell_type": "markdown",
      "source": "Pvalue говорит о том что статистически значимых различий нет",
      "metadata": {}
    },
    {
      "cell_type": "code",
      "source": "\navg_x = np.mean(x)\navg_y = np.mean(y)\nD_x = np.var(x, ddof=1)\nD_y = np.var(y, ddof=1)\nx_len = len(x)\ny_len = len(y)\n\n\nt = (avg_x - avg_y) / sqrt(D_x/x_len + D_y/y_len)\nt",
      "metadata": {
        "trusted": true
      },
      "execution_count": 16,
      "outputs": [
        {
          "execution_count": 16,
          "output_type": "execute_result",
          "data": {
            "text/plain": "0.35581195161541973"
          },
          "metadata": {}
        }
      ]
    },
    {
      "cell_type": "markdown",
      "source": "k = (n-1)*2 = (9-1)*2 = 16\nпри n = 16 и а=0,05 t - критерий Стьюдента = 2.120\n0.355 < 2.120\nСтатистически значимых различий нет",
      "metadata": {}
    }
  ]
}